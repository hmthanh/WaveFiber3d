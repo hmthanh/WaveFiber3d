{
 "cells": [
  {
   "cell_type": "code",
   "execution_count": 1,
   "metadata": {},
   "outputs": [],
   "source": [
    "import numpy as np\n",
    "import PyMieScatt as ps"
   ]
  },
  {
   "cell_type": "code",
   "execution_count": 2,
   "metadata": {},
   "outputs": [],
   "source": [
    "# Sphere parameter\n",
    "wavelength = 400\n",
    "radius = 10000              # radius of sphere, unit nm\n",
    "cunit = 1j\n",
    "ior = 1.55+0.1*cunit\n",
    "\n",
    "dist = ps.ScatteringFunction(ior, wavelength, radius * 2., nMedium=1.0, minAngle=-180, maxAngle=180,\n",
    "                            angularResolution=0.25, space='theta', angleMeasure='radians')\n"
   ]
  },
  {
   "cell_type": "code",
   "execution_count": 3,
   "metadata": {},
   "outputs": [
    {
     "name": "stdout",
     "output_type": "stream",
     "text": [
      "write distvec TM\n",
      "write distvec TE\n",
      "write distvec TEM\n"
     ]
    }
   ],
   "source": [
    "\n",
    "print(\"write distvec TM\")\n",
    "with open(\"output/mie_10um_TM.bin\", \"wb\") as file:\n",
    "    file.write(dist[1])\n",
    "\n",
    "print(\"write distvec TE\")\n",
    "with open(\"output/mie_10um_TE.bin\", \"wb\") as file:\n",
    "    file.write(dist[2])\n",
    "\n",
    "print(\"write distvec TEM\")\n",
    "with open(\"output/mie_10um_TEM.bin\", \"wb\") as file:\n",
    "    file.write(dist[3])"
   ]
  },
  {
   "cell_type": "code",
   "execution_count": null,
   "metadata": {},
   "outputs": [],
   "source": []
  }
 ],
 "metadata": {
  "kernelspec": {
   "display_name": "Python 3",
   "language": "python",
   "name": "python3"
  },
  "language_info": {
   "codemirror_mode": {
    "name": "ipython",
    "version": 3
   },
   "file_extension": ".py",
   "mimetype": "text/x-python",
   "name": "python",
   "nbconvert_exporter": "python",
   "pygments_lexer": "ipython3",
   "version": "3.10.8"
  },
  "orig_nbformat": 4,
  "vscode": {
   "interpreter": {
    "hash": "fe7bc14291151fc740042e8622237c89667daac21d565bf7f7c331c3ae47f0fb"
   }
  }
 },
 "nbformat": 4,
 "nbformat_minor": 2
}
